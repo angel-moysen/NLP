{
 "cells": [
  {
   "cell_type": "markdown",
   "id": "c851165e",
   "metadata": {},
   "source": [
    "# Test 1"
   ]
  },
  {
   "cell_type": "markdown",
   "id": "af93c335",
   "metadata": {},
   "source": [
    "Aplicar técnicas básicas de NLP, para **analizar un conjunto de frases etiquetadas con emociones**. \n",
    "\n",
    "El objetivo es transformar texto en representaciones numéricas que permitan descubrir patrones y términos representativos de cada emoción."
   ]
  },
  {
   "cell_type": "markdown",
   "id": "30f4bde4",
   "metadata": {},
   "source": [
    "## Dataset"
   ]
  },
  {
   "cell_type": "markdown",
   "id": "ab2b3bb6",
   "metadata": {},
   "source": [
    "El archivo es _.txt_, por lo que tienes que convertirlo primero a tipo _.csv_ para su manipulación.\n",
    "\n",
    "Tiene la siguiente estructura"
   ]
  },
  {
   "cell_type": "markdown",
   "id": "f09cf320",
   "metadata": {},
   "source": [
    "``\n",
    "<frase>;<etiqueta de emoción>\n",
    "``"
   ]
  },
  {
   "cell_type": "markdown",
   "id": "824e3713",
   "metadata": {},
   "source": [
    "## Entregables"
   ]
  },
  {
   "cell_type": "markdown",
   "id": "f3c5f70c",
   "metadata": {},
   "source": [
    "1. Construcción del dataset\n",
    "2. Normalización de textos\n",
    "3. Representación numérica usando BoW o TF-IDF\n",
    "4. Análisis\n",
    "\n",
    "En la parte de análisis se busca lo siguiente\n",
    "\n",
    "1. Identificar las palabras con mayor peso por cada clase de emoción, por ejemplo, para la clase joy, las palabras más comunes son...\n",
    "2. Existen palabras que son compartidas entre varias emociones?\n",
    "3. Existen palabras con signficado diferente en más de 1 clase?\n",
    "4. Palabras más frecuentes en todo el corpus\n",
    "5. Compara lonngitud promedio de las oraciones por clase\n",
    "6. Qué palabras son exclusivas de cada clase?\n",
    "7. Escribe tus conclusiones sobre las posibles causas de cada clase, por ejemplo, de qué tratan las oraciones con clase de 'joy'?\n",
    "8. Insights generales"
   ]
  },
  {
   "cell_type": "markdown",
   "id": "de6dc8d4",
   "metadata": {},
   "source": [
    "Nota 1. Usar ChatGPT está bien, solo no abuses porque si nos damos cuenta :)"
   ]
  },
  {
   "cell_type": "markdown",
   "id": "5d12d9c0",
   "metadata": {},
   "source": [
    "Nota 2. Trata de usar gráficos para compartir tus hallazgos"
   ]
  },
  {
   "cell_type": "markdown",
   "id": "442853d8",
   "metadata": {},
   "source": [
    "## Restricciones"
   ]
  },
  {
   "cell_type": "markdown",
   "id": "91576b9b",
   "metadata": {},
   "source": [
    "* **No** puedes usar librerías para la parte de normalización, a excepción de stopwords\n",
    "* El análisis debe de ser compartido ya sea por algo escrito o visual, **NO** impresiones de consola"
   ]
  },
  {
   "cell_type": "markdown",
   "id": "be2bde6a",
   "metadata": {},
   "source": [
    "Nice :)"
   ]
  }
 ],
 "metadata": {
  "kernelspec": {
   "display_name": ".venv",
   "language": "python",
   "name": "python3"
  },
  "language_info": {
   "name": "python",
   "version": "3.13.3"
  }
 },
 "nbformat": 4,
 "nbformat_minor": 5
}
